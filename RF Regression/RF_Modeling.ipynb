{
 "cells": [
  {
   "cell_type": "markdown",
   "metadata": {},
   "source": [
    "### Random Forest Modeling for Bunning 2019 Human aging dataset\n",
    "\n"
   ]
  },
  {
   "cell_type": "markdown",
   "metadata": {},
   "source": [
    "#### Step 1: Data preprocessing. \n",
    "We will combind the categorical data in sheet 2 into the numercial data and use them together for regression modeling"
   ]
  },
  {
   "cell_type": "code",
   "execution_count": 2,
   "metadata": {},
   "outputs": [],
   "source": [
    "import pandas as pd\n",
    "from sklearn.preprocessing import OneHotEncoder, StandardScaler\n",
    "from sklearn.compose import ColumnTransformer\n",
    "from sklearn.pipeline import Pipeline"
   ]
  },
  {
   "cell_type": "markdown",
   "metadata": {},
   "source": [
    "First, import the transformed data and contrapose it."
   ]
  },
  {
   "cell_type": "code",
   "execution_count": 14,
   "metadata": {},
   "outputs": [
    {
     "name": "stdout",
     "output_type": "stream",
     "text": [
      "Metabolite name  L-Alanine  L-Aspartic acid  L-Asparagine  \\\n",
      "P1               -1.846172         0.484126      0.021412   \n",
      "P2               -0.443329        -0.877494     -0.061673   \n",
      "P3               -0.134794         0.206897      0.104678   \n",
      "P4                1.068429        -0.146876     -0.031757   \n",
      "P5                0.459775         0.530521      0.103970   \n",
      "...                    ...              ...           ...   \n",
      "P264             -1.348079         0.226587      0.110009   \n",
      "P265             -0.694988         0.232135      0.170186   \n",
      "P266             -1.474038         0.165482      0.056151   \n",
      "P267             -1.353003         0.642928     -0.023424   \n",
      "P268             -0.916607        -0.639974      0.368144   \n",
      "\n",
      "Metabolite name  Glucosamine|Galactosamine  Hydroxyhippurate  L-Carnitine  \\\n",
      "P1                                0.861255         -0.173662     1.018054   \n",
      "P2                                0.264052         -0.454759    -3.766291   \n",
      "P3                                0.283471         -0.607615     0.736472   \n",
      "P4                                0.368148          0.922386     1.818349   \n",
      "P5                                0.355795         -0.386900     1.087127   \n",
      "...                                    ...               ...          ...   \n",
      "P264                             -0.002822         -0.235706    -0.743301   \n",
      "P265                             -0.156066         -0.672531    -0.623018   \n",
      "P266                             -0.087567         -0.861555    -1.036960   \n",
      "P267                              0.307980          1.095508    -4.130772   \n",
      "P268                              0.167139          0.292395    -1.096374   \n",
      "\n",
      "Metabolite name   Ectoine  Corticosterone  Creatinine  Creatine  ...  \\\n",
      "P1              -0.047993       -0.678022    0.590303 -1.261375  ...   \n",
      "P2               1.083980       -0.221590   -0.329841 -0.501870  ...   \n",
      "P3              -0.409403        0.810842    0.119172  0.405288  ...   \n",
      "P4               0.683843        1.115335    0.941316  1.794518  ...   \n",
      "P5               1.320936        0.888927    0.675092  0.413189  ...   \n",
      "...                   ...             ...         ...       ...  ...   \n",
      "P264             0.476704        1.244089   -0.195385 -0.129961  ...   \n",
      "P265            -0.713481       -0.520902    0.077454 -0.203069  ...   \n",
      "P266            -0.400332       -0.363629    0.202094 -0.493173  ...   \n",
      "P267             0.292473        0.091438   -0.152550 -0.279122  ...   \n",
      "P268            -0.470073        1.124198   -0.558891 -0.243184  ...   \n",
      "\n",
      "Metabolite name  C9H14N2O6  C9H14N2O7(1)  C9H14N2O7(2)  C8H12N2O5  C9H16N2O4  \\\n",
      "P1               -0.024520      0.395245      0.360340   0.642057   0.587633   \n",
      "P2               -0.198824      0.176381      0.287757   0.203458   2.074760   \n",
      "P3               -0.613307      0.250506      0.331689   0.233128  -0.047189   \n",
      "P4                0.395937     -1.235497     -0.249653   0.437994   0.567404   \n",
      "P5                0.787127      0.072607      0.200583   0.162881   0.474926   \n",
      "...                    ...           ...           ...        ...        ...   \n",
      "P264             -0.273758      0.193908      0.293824   0.253187  -1.089025   \n",
      "P265             -0.120994      0.244782      0.317778   0.250546   0.103206   \n",
      "P266             -0.503613      0.210990      0.318255   0.224975  -0.145610   \n",
      "P267             -0.457098      0.760028      1.183620   1.565712   1.233474   \n",
      "P268             -0.225415      0.269072      0.322088  -0.023530  -0.215301   \n",
      "\n",
      "Metabolite name   C9H16O4   C9H18O9   C9H9NO4    C5H8O6  C12H16O6  \n",
      "P1               0.379383 -0.084655  0.751380 -0.229849 -0.119829  \n",
      "P2              -1.527215 -0.088695  0.641425  0.682707 -1.204619  \n",
      "P3               1.119094  0.221023  0.700568  0.810287 -0.582386  \n",
      "P4               0.873934  0.164568  1.194226 -0.240203  1.818600  \n",
      "P5              -0.670962  0.207942  0.522442  0.003037  0.176705  \n",
      "...                   ...       ...       ...       ...       ...  \n",
      "P264            -0.001213  0.061635  0.542096  0.322265 -0.005658  \n",
      "P265             1.409934  0.062677 -2.097742  0.342218 -1.030170  \n",
      "P266             2.231628  0.094491  0.241605 -1.029289 -0.428880  \n",
      "P267             0.347278  0.031986  0.415062  0.785559  0.631731  \n",
      "P268             1.201178  0.034181 -0.100400 -1.140489 -0.587886  \n",
      "\n",
      "[268 rows x 770 columns]\n"
     ]
    }
   ],
   "source": [
    "df = pd.read_excel(\"../transformed_data.xlsx\", sheet_name=0, index_col=0)\n",
    "df = df.T\n",
    "print(df)"
   ]
  },
  {
   "cell_type": "markdown",
   "metadata": {},
   "source": [
    "Concatenate the categorical data from sheet 2 into the dataframe."
   ]
  },
  {
   "cell_type": "code",
   "execution_count": 17,
   "metadata": {},
   "outputs": [
    {
     "ename": "KeyError",
     "evalue": "'Age'",
     "output_type": "error",
     "traceback": [
      "\u001b[0;31m---------------------------------------------------------------------------\u001b[0m",
      "\u001b[0;31mKeyError\u001b[0m                                  Traceback (most recent call last)",
      "File \u001b[0;32m~/Applications/anaconda3/envs/csci1470/lib/python3.10/site-packages/pandas/core/indexes/base.py:3802\u001b[0m, in \u001b[0;36mIndex.get_loc\u001b[0;34m(self, key, method, tolerance)\u001b[0m\n\u001b[1;32m   3801\u001b[0m \u001b[39mtry\u001b[39;00m:\n\u001b[0;32m-> 3802\u001b[0m     \u001b[39mreturn\u001b[39;00m \u001b[39mself\u001b[39;49m\u001b[39m.\u001b[39;49m_engine\u001b[39m.\u001b[39;49mget_loc(casted_key)\n\u001b[1;32m   3803\u001b[0m \u001b[39mexcept\u001b[39;00m \u001b[39mKeyError\u001b[39;00m \u001b[39mas\u001b[39;00m err:\n",
      "File \u001b[0;32m~/Applications/anaconda3/envs/csci1470/lib/python3.10/site-packages/pandas/_libs/index.pyx:138\u001b[0m, in \u001b[0;36mpandas._libs.index.IndexEngine.get_loc\u001b[0;34m()\u001b[0m\n",
      "File \u001b[0;32m~/Applications/anaconda3/envs/csci1470/lib/python3.10/site-packages/pandas/_libs/index.pyx:165\u001b[0m, in \u001b[0;36mpandas._libs.index.IndexEngine.get_loc\u001b[0;34m()\u001b[0m\n",
      "File \u001b[0;32mpandas/_libs/hashtable_class_helper.pxi:5745\u001b[0m, in \u001b[0;36mpandas._libs.hashtable.PyObjectHashTable.get_item\u001b[0;34m()\u001b[0m\n",
      "File \u001b[0;32mpandas/_libs/hashtable_class_helper.pxi:5753\u001b[0m, in \u001b[0;36mpandas._libs.hashtable.PyObjectHashTable.get_item\u001b[0;34m()\u001b[0m\n",
      "\u001b[0;31mKeyError\u001b[0m: 'Age'",
      "\nThe above exception was the direct cause of the following exception:\n",
      "\u001b[0;31mKeyError\u001b[0m                                  Traceback (most recent call last)",
      "Cell \u001b[0;32mIn[17], line 3\u001b[0m\n\u001b[1;32m      1\u001b[0m table2df \u001b[39m=\u001b[39m pd\u001b[39m.\u001b[39mread_excel(\u001b[39m\"\u001b[39m\u001b[39m../acel13073-sup-0002-tables1-s3.xlsx\u001b[39m\u001b[39m\"\u001b[39m, sheet_name\u001b[39m=\u001b[39m\u001b[39m1\u001b[39m, header\u001b[39m=\u001b[39m[\u001b[39m0\u001b[39m,\u001b[39m1\u001b[39m])\n\u001b[1;32m      2\u001b[0m table2df\u001b[39m.\u001b[39mhead()\n\u001b[0;32m----> 3\u001b[0m \u001b[39mprint\u001b[39m(table2df[\u001b[39m'\u001b[39;49m\u001b[39mAge\u001b[39;49m\u001b[39m'\u001b[39;49m])\n",
      "File \u001b[0;32m~/Applications/anaconda3/envs/csci1470/lib/python3.10/site-packages/pandas/core/frame.py:3806\u001b[0m, in \u001b[0;36mDataFrame.__getitem__\u001b[0;34m(self, key)\u001b[0m\n\u001b[1;32m   3804\u001b[0m \u001b[39mif\u001b[39;00m is_single_key:\n\u001b[1;32m   3805\u001b[0m     \u001b[39mif\u001b[39;00m \u001b[39mself\u001b[39m\u001b[39m.\u001b[39mcolumns\u001b[39m.\u001b[39mnlevels \u001b[39m>\u001b[39m \u001b[39m1\u001b[39m:\n\u001b[0;32m-> 3806\u001b[0m         \u001b[39mreturn\u001b[39;00m \u001b[39mself\u001b[39;49m\u001b[39m.\u001b[39;49m_getitem_multilevel(key)\n\u001b[1;32m   3807\u001b[0m     indexer \u001b[39m=\u001b[39m \u001b[39mself\u001b[39m\u001b[39m.\u001b[39mcolumns\u001b[39m.\u001b[39mget_loc(key)\n\u001b[1;32m   3808\u001b[0m     \u001b[39mif\u001b[39;00m is_integer(indexer):\n",
      "File \u001b[0;32m~/Applications/anaconda3/envs/csci1470/lib/python3.10/site-packages/pandas/core/frame.py:3857\u001b[0m, in \u001b[0;36mDataFrame._getitem_multilevel\u001b[0;34m(self, key)\u001b[0m\n\u001b[1;32m   3855\u001b[0m \u001b[39mdef\u001b[39;00m \u001b[39m_getitem_multilevel\u001b[39m(\u001b[39mself\u001b[39m, key):\n\u001b[1;32m   3856\u001b[0m     \u001b[39m# self.columns is a MultiIndex\u001b[39;00m\n\u001b[0;32m-> 3857\u001b[0m     loc \u001b[39m=\u001b[39m \u001b[39mself\u001b[39;49m\u001b[39m.\u001b[39;49mcolumns\u001b[39m.\u001b[39;49mget_loc(key)\n\u001b[1;32m   3858\u001b[0m     \u001b[39mif\u001b[39;00m \u001b[39misinstance\u001b[39m(loc, (\u001b[39mslice\u001b[39m, np\u001b[39m.\u001b[39mndarray)):\n\u001b[1;32m   3859\u001b[0m         new_columns \u001b[39m=\u001b[39m \u001b[39mself\u001b[39m\u001b[39m.\u001b[39mcolumns[loc]\n",
      "File \u001b[0;32m~/Applications/anaconda3/envs/csci1470/lib/python3.10/site-packages/pandas/core/indexes/multi.py:2916\u001b[0m, in \u001b[0;36mMultiIndex.get_loc\u001b[0;34m(self, key, method)\u001b[0m\n\u001b[1;32m   2913\u001b[0m     \u001b[39mreturn\u001b[39;00m mask\n\u001b[1;32m   2915\u001b[0m \u001b[39mif\u001b[39;00m \u001b[39mnot\u001b[39;00m \u001b[39misinstance\u001b[39m(key, \u001b[39mtuple\u001b[39m):\n\u001b[0;32m-> 2916\u001b[0m     loc \u001b[39m=\u001b[39m \u001b[39mself\u001b[39;49m\u001b[39m.\u001b[39;49m_get_level_indexer(key, level\u001b[39m=\u001b[39;49m\u001b[39m0\u001b[39;49m)\n\u001b[1;32m   2917\u001b[0m     \u001b[39mreturn\u001b[39;00m _maybe_to_slice(loc)\n\u001b[1;32m   2919\u001b[0m keylen \u001b[39m=\u001b[39m \u001b[39mlen\u001b[39m(key)\n",
      "File \u001b[0;32m~/Applications/anaconda3/envs/csci1470/lib/python3.10/site-packages/pandas/core/indexes/multi.py:3263\u001b[0m, in \u001b[0;36mMultiIndex._get_level_indexer\u001b[0;34m(self, key, level, indexer)\u001b[0m\n\u001b[1;32m   3259\u001b[0m         \u001b[39mreturn\u001b[39;00m \u001b[39mslice\u001b[39m(i, j, step)\n\u001b[1;32m   3261\u001b[0m \u001b[39melse\u001b[39;00m:\n\u001b[0;32m-> 3263\u001b[0m     idx \u001b[39m=\u001b[39m \u001b[39mself\u001b[39;49m\u001b[39m.\u001b[39;49m_get_loc_single_level_index(level_index, key)\n\u001b[1;32m   3265\u001b[0m     \u001b[39mif\u001b[39;00m level \u001b[39m>\u001b[39m \u001b[39m0\u001b[39m \u001b[39mor\u001b[39;00m \u001b[39mself\u001b[39m\u001b[39m.\u001b[39m_lexsort_depth \u001b[39m==\u001b[39m \u001b[39m0\u001b[39m:\n\u001b[1;32m   3266\u001b[0m         \u001b[39m# Desired level is not sorted\u001b[39;00m\n\u001b[1;32m   3267\u001b[0m         \u001b[39mif\u001b[39;00m \u001b[39misinstance\u001b[39m(idx, \u001b[39mslice\u001b[39m):\n\u001b[1;32m   3268\u001b[0m             \u001b[39m# test_get_loc_partial_timestamp_multiindex\u001b[39;00m\n",
      "File \u001b[0;32m~/Applications/anaconda3/envs/csci1470/lib/python3.10/site-packages/pandas/core/indexes/multi.py:2849\u001b[0m, in \u001b[0;36mMultiIndex._get_loc_single_level_index\u001b[0;34m(self, level_index, key)\u001b[0m\n\u001b[1;32m   2847\u001b[0m     \u001b[39mreturn\u001b[39;00m \u001b[39m-\u001b[39m\u001b[39m1\u001b[39m\n\u001b[1;32m   2848\u001b[0m \u001b[39melse\u001b[39;00m:\n\u001b[0;32m-> 2849\u001b[0m     \u001b[39mreturn\u001b[39;00m level_index\u001b[39m.\u001b[39;49mget_loc(key)\n",
      "File \u001b[0;32m~/Applications/anaconda3/envs/csci1470/lib/python3.10/site-packages/pandas/core/indexes/base.py:3804\u001b[0m, in \u001b[0;36mIndex.get_loc\u001b[0;34m(self, key, method, tolerance)\u001b[0m\n\u001b[1;32m   3802\u001b[0m     \u001b[39mreturn\u001b[39;00m \u001b[39mself\u001b[39m\u001b[39m.\u001b[39m_engine\u001b[39m.\u001b[39mget_loc(casted_key)\n\u001b[1;32m   3803\u001b[0m \u001b[39mexcept\u001b[39;00m \u001b[39mKeyError\u001b[39;00m \u001b[39mas\u001b[39;00m err:\n\u001b[0;32m-> 3804\u001b[0m     \u001b[39mraise\u001b[39;00m \u001b[39mKeyError\u001b[39;00m(key) \u001b[39mfrom\u001b[39;00m \u001b[39merr\u001b[39;00m\n\u001b[1;32m   3805\u001b[0m \u001b[39mexcept\u001b[39;00m \u001b[39mTypeError\u001b[39;00m:\n\u001b[1;32m   3806\u001b[0m     \u001b[39m# If we have a listlike key, _check_indexing_error will raise\u001b[39;00m\n\u001b[1;32m   3807\u001b[0m     \u001b[39m#  InvalidIndexError. Otherwise we fall through and re-raise\u001b[39;00m\n\u001b[1;32m   3808\u001b[0m     \u001b[39m#  the TypeError.\u001b[39;00m\n\u001b[1;32m   3809\u001b[0m     \u001b[39mself\u001b[39m\u001b[39m.\u001b[39m_check_indexing_error(key)\n",
      "\u001b[0;31mKeyError\u001b[0m: 'Age'"
     ]
    }
   ],
   "source": [
    "table2df = pd.read_excel(\"../acel13073-sup-0002-tables1-s3.xlsx\", sheet_name=1, header=[0,1])\n",
    "table2df.head()"
   ]
  }
 ],
 "metadata": {
  "kernelspec": {
   "display_name": "csci1470",
   "language": "python",
   "name": "python3"
  },
  "language_info": {
   "codemirror_mode": {
    "name": "ipython",
    "version": 3
   },
   "file_extension": ".py",
   "mimetype": "text/x-python",
   "name": "python",
   "nbconvert_exporter": "python",
   "pygments_lexer": "ipython3",
   "version": "3.10.11"
  },
  "orig_nbformat": 4
 },
 "nbformat": 4,
 "nbformat_minor": 2
}
